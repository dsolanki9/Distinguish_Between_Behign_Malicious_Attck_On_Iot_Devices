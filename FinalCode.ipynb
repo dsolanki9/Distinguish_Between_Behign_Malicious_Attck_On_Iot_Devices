{
 "cells": [
  {
   "cell_type": "markdown",
   "id": "atomic-independence",
   "metadata": {},
   "source": [
    "## <center>Group 1</center> ###\n",
    "## <center>Distinguishing Between Benign & Malicous traffic on IOT devices</center> ##\n",
    "### <center>Parth J. Patel, Dishank K. Solanki, Pawan sp</center> ###"
   ]
  },
  {
   "cell_type": "markdown",
   "id": "union-trash",
   "metadata": {},
   "source": [
    "### Loading the packages required for project ###"
   ]
  },
  {
   "cell_type": "code",
   "execution_count": 1,
   "id": "joint-cookbook",
   "metadata": {},
   "outputs": [],
   "source": [
    "# Loading the packages needed for this project\n",
    "# create spark and sparkcontext objects\n",
    "import pandas as pd \n",
    "from pyspark.sql import SparkSession\n",
    "import numpy as np\n",
    "\n",
    "spark = SparkSession.builder.getOrCreate()\n",
    "sc = spark.sparkContext\n",
    "\n",
    "from pyspark.ml import feature, regression, Pipeline, pipeline, evaluation,classification\n",
    "from pyspark.sql.functions import lit\n",
    "from pyspark.sql import types, Row, functions as fn\n",
    "from pyspark import sql\n",
    "import matplotlib.pyplot as plt\n",
    "\n",
    "import pyspark.sql.types as t\n",
    "\n",
    "from pyspark.ml.classification import LogisticRegression, RandomForestClassifier, GBTClassifier, OneVsRest\n",
    "\n"
   ]
  },
  {
   "cell_type": "markdown",
   "id": "secondary-increase",
   "metadata": {},
   "source": [
    "### Reading the data from input files recursively ###"
   ]
  },
  {
   "cell_type": "code",
   "execution_count": 2,
   "id": "contained-function",
   "metadata": {},
   "outputs": [
    {
     "name": "stdout",
     "output_type": "stream",
     "text": [
      "(100107, 115)\n",
      "(103650, 115)\n",
      "(101326, 115)\n",
      "(104992, 115)\n",
      "(103207, 115)\n",
      "(103114, 115)\n",
      "(101860, 115)\n",
      "(104636, 115)\n",
      "(103310, 115)\n"
     ]
    }
   ],
   "source": [
    "# Please run this notebook from Parth Patel Jupyterhub repository because the input files are stored according to the path mentioned below\n",
    "# Reading Benign dataset recursively\n",
    "iot_bot_attacks_benign_1= spark.read.option(\"recursiveFileLookup\",\"true\").option(\"header\",\"true\").csv(\"/home/jovyan/library/ist718/Project/Project_1/*/benign_traffic.csv\")\n",
    "iot_bot_attacks_benign, iot_bot_attacks_benign_2 = iot_bot_attacks_benign_1.randomSplit([0.65, 0.35], seed=0)\n",
    "print((iot_bot_attacks_benign.count(), len(iot_bot_attacks_benign.columns)))\n",
    "# Adding column ben_malli_attack for benign or mallicous attack. For Benign its 0\n",
    "# Adding column attack_type for type of attack. For Benign its 0\n",
    "iot_bot_attacks_benign = iot_bot_attacks_benign.withColumn('ben_malli_attack',lit(0))\n",
    "iot_bot_attacks_benign = iot_bot_attacks_benign.withColumn('attack_type',lit(0))\n",
    "\n",
    "# Reading ack dataset recursively\n",
    "iot_bot_attacks_ack = spark.read.option(\"recursiveFileLookup\",\"true\").option(\"header\",\"true\").csv(\"/home/jovyan/library/ist718/Project/Project_1/*/*/ack.csv\")\n",
    "iot_bot_attacks_ack,iot_bot_attacks_ack_2 = iot_bot_attacks_ack.randomSplit([0.48,0.52],seed=0)\n",
    "print((iot_bot_attacks_ack.count(), len(iot_bot_attacks_ack.columns)))\n",
    "# Adding column ben_malli_attack for benign or mallicous attack. For mallicous its 1.\n",
    "# Adding column attack_type for type of attack. For ack its 1.\n",
    "iot_bot_attacks_ack = iot_bot_attacks_ack.withColumn('ben_malli_attack',lit(1))\n",
    "iot_bot_attacks_ack = iot_bot_attacks_ack.withColumn('attack_type',lit(1))\n",
    "\n",
    "# Reading scan dataset recursively\n",
    "iot_bot_attacks_scan_1 = spark.read.option(\"recursiveFileLookup\",\"true\").option(\"header\",\"true\").csv(\"/home/jovyan/library/ist718/Project/Project_1/*/*/scan.csv\")\n",
    "iot_bot_attacks_scan, iot_bot_attacks_scan_2 = iot_bot_attacks_scan_1.randomSplit([0.38, 0.62], seed=0)\n",
    "print((iot_bot_attacks_scan.count(), len(iot_bot_attacks_scan.columns)))\n",
    "# Adding column ben_malli_attack for benign or mallicous attack. For mallicous its 1.\n",
    "# Adding column attack_type for type of attack. For scan its 2.\n",
    "iot_bot_attacks_scan = iot_bot_attacks_scan.withColumn('ben_malli_attack',lit(1))\n",
    "iot_bot_attacks_scan = iot_bot_attacks_scan.withColumn('attack_type',lit(2))\n",
    "\n",
    "# Reading udpplain dataset recursively\n",
    "iot_bot_attacks_udpplain = spark.read.option(\"recursiveFileLookup\",\"true\").option(\"header\",\"true\").csv(\"/home/jovyan/library/ist718/Project/Project_1/*/*/udpplain.csv\")\n",
    "iot_bot_attacks_udpplain,iot_bot_attacks_udpplain_2 = iot_bot_attacks_udpplain.randomSplit([0.62,0.38],seed=0)\n",
    "print((iot_bot_attacks_udpplain.count(), len(iot_bot_attacks_udpplain.columns)))\n",
    "# Adding column ben_malli_attack for benign or mallicous attack. For mallicous its 1.\n",
    "# Adding column attack_type for type of attack. For udpplain its 3.\n",
    "iot_bot_attacks_udpplain = iot_bot_attacks_udpplain.withColumn('ben_malli_attack',lit(1))\n",
    "iot_bot_attacks_udpplain = iot_bot_attacks_udpplain.withColumn('attack_type',lit(3))\n",
    "\n",
    "# Reading udp dataset recursively\n",
    "iot_bot_attacks_udp_1 = spark.read.option(\"recursiveFileLookup\",\"true\").option(\"header\",\"true\").csv(\"/home/jovyan/library/ist718/Project/Project_1/*/*/udp.csv\")\n",
    "iot_bot_attacks_udp,iot_bot_attacks_udp_2  = iot_bot_attacks_udp_1.randomSplit([0.15, 0.85], seed=0)\n",
    "print((iot_bot_attacks_udp.count(), len(iot_bot_attacks_udp.columns)))\n",
    "# Adding column ben_malli_attack for benign or mallicous attack. For mallicous its 1.\n",
    "# Adding column attack_type for type of attack. For udp its 4.\n",
    "iot_bot_attacks_udp = iot_bot_attacks_udp.withColumn('ben_malli_attack',lit(1))\n",
    "iot_bot_attacks_udp = iot_bot_attacks_udp.withColumn('attack_type',lit(4))\n",
    "\n",
    "\n",
    "# Reading syn dataset recursively\n",
    "iot_bot_attacks_syn = spark.read.option(\"recursiveFileLookup\",\"true\").option(\"header\",\"true\").csv(\"/home/jovyan/library/ist718/Project/Project_1/*/*/syn.csv\")\n",
    "iot_bot_attacks_syn,iot_bot_attacks_syn_2 = iot_bot_attacks_syn.randomSplit([0.43,0.57],seed=0)\n",
    "print((iot_bot_attacks_syn.count(), len(iot_bot_attacks_syn.columns)))\n",
    "# Adding column ben_malli_attack for benign or mallicous attack. For mallicous its 1.\n",
    "# Adding column attack_type for type of attack. For syn its 5.\n",
    "iot_bot_attacks_syn = iot_bot_attacks_syn.withColumn('ben_malli_attack',lit(1))\n",
    "iot_bot_attacks_syn = iot_bot_attacks_syn.withColumn('attack_type',lit(5))\n",
    "\n",
    "\n",
    "# Reading combo dataset recursively\n",
    "iot_bot_attacks_combo_1= spark.read.option(\"recursiveFileLookup\",\"true\").option(\"header\",\"true\").csv(\"/home/jovyan/library/ist718/Project/Project_1/*/*/combo.csv\")\n",
    "iot_bot_attacks_combo, iot_bot_attacks_combo_2 = iot_bot_attacks_combo_1.randomSplit([0.44, 0.56], seed=0)\n",
    "print((iot_bot_attacks_combo.count(), len(iot_bot_attacks_combo.columns)))\n",
    "# Adding column attack_type for type of attack. For combo its 6.\n",
    "iot_bot_attacks_combo = iot_bot_attacks_combo.withColumn('ben_malli_attack',lit(1))\n",
    "iot_bot_attacks_combo = iot_bot_attacks_combo.withColumn('attack_type',lit(6))\n",
    "\n",
    "# Reading junk dataset recursively\n",
    "iot_bot_attacks_junk_1= spark.read.option(\"recursiveFileLookup\",\"true\").option(\"header\",\"true\").csv(\"/home/jovyan/library/ist718/Project/Project_1/*/*/junk.csv\")\n",
    "iot_bot_attacks_junk, iot_bot_attacks_junk_2 = iot_bot_attacks_junk_1.randomSplit([0.9, 0.1], seed=0)\n",
    "print((iot_bot_attacks_junk.count(), len(iot_bot_attacks_junk.columns)))\n",
    "# Adding column ben_malli_attack for benign or mallicous attack. For mallicous its 1.\n",
    "# Adding column attack_type for type of attack. For junk its 7.\n",
    "iot_bot_attacks_junk = iot_bot_attacks_junk.withColumn('ben_malli_attack',lit(1))\n",
    "iot_bot_attacks_junk = iot_bot_attacks_junk.withColumn('attack_type',lit(7))\n",
    "\n",
    "\n",
    "# Reading tcp dataset recursively\n",
    "iot_bot_attacks_tcp_1 = spark.read.option(\"recursiveFileLookup\",\"true\").option(\"header\",\"true\").csv(\"/home/jovyan/library/ist718/Project/Project_1/*/*/tcp.csv\")\n",
    "iot_bot_attacks_tcp, iot_bot_attacks_tcp_2 = iot_bot_attacks_tcp_1.randomSplit([0.27, 0.73], seed=0)\n",
    "print((iot_bot_attacks_tcp.count(), len(iot_bot_attacks_tcp.columns)))\n",
    "# Adding column ben_malli_attack for benign or mallicous attack. For mallicous its 1.\n",
    "# Adding column attack_type for type of attack. For tcp its 8.\n",
    "iot_bot_attacks_tcp = iot_bot_attacks_tcp.withColumn('ben_malli_attack',lit(1))\n",
    "iot_bot_attacks_tcp = iot_bot_attacks_tcp.withColumn('attack_type',lit(8))\n",
    "\n",
    "\n"
   ]
  },
  {
   "cell_type": "code",
   "execution_count": 3,
   "id": "universal-camcorder",
   "metadata": {},
   "outputs": [],
   "source": [
    "# Creating the dataset for Unbalanced dataset graph. If you want to see the unbalanced graph please UNCOMMENT this cell and run it\n",
    "# After running these cell please run \"Graph to check number of data points for each attack and for benign and mallicous attack\" cell \n",
    "# to see the unbalanced data\n",
    "\n",
    "# # Reading Benign dataset recursively\n",
    "# iot_bot_attacks_benign= spark.read.option(\"recursiveFileLookup\",\"true\").option(\"header\",\"true\").csv(\"/home/jovyan/library/ist718/Project/Project_1/*/benign_traffic.csv\")\n",
    "# print((iot_bot_attacks_benign.count(), len(iot_bot_attacks_benign.columns)))\n",
    "# # Adding column ben_malli_attack for benign or mallicous attack. For Benign its 0\n",
    "# # Adding column attack_type for type of attack. For Benign its 0\n",
    "# iot_bot_attacks_benign = iot_bot_attacks_benign.withColumn('ben_malli_attack',lit(0))\n",
    "# iot_bot_attacks_benign = iot_bot_attacks_benign.withColumn('attack_type',lit(0))\n",
    "\n",
    "# # Reading combo dataset recursively\n",
    "# iot_bot_attacks_combo= spark.read.option(\"recursiveFileLookup\",\"true\").option(\"header\",\"true\").csv(\"/home/jovyan/library/ist718/Project/Project_1/*/*/combo.csv\")\n",
    "# print((iot_bot_attacks_combo.count(), len(iot_bot_attacks_combo.columns)))\n",
    "# # Adding column ben_malli_attack for benign or mallicous attack. For mallicous its 1.\n",
    "# # Adding column attack_type for type of attack. For combo its 6.\n",
    "# iot_bot_attacks_combo = iot_bot_attacks_combo.withColumn('ben_malli_attack',lit(1))\n",
    "# iot_bot_attacks_combo = iot_bot_attacks_combo.withColumn('attack_type',lit(6))\n",
    "\n",
    "# # Reading junk dataset recursively\n",
    "# iot_bot_attacks_junk= spark.read.option(\"recursiveFileLookup\",\"true\").option(\"header\",\"true\").csv(\"/home/jovyan/library/ist718/Project/Project_1/*/*/junk.csv\")\n",
    "# print((iot_bot_attacks_junk.count(), len(iot_bot_attacks_junk.columns)))\n",
    "# # Adding column ben_malli_attack for benign or mallicous attack. For mallicous its 1.\n",
    "# # Adding column attack_type for type of attack. For junk its 7.\n",
    "# iot_bot_attacks_junk = iot_bot_attacks_junk.withColumn('ben_malli_attack',lit(1))\n",
    "# iot_bot_attacks_junk = iot_bot_attacks_junk.withColumn('attack_type',lit(7))\n",
    "\n",
    "# # Reading scan dataset recursively\n",
    "# iot_bot_attacks_scan = spark.read.option(\"recursiveFileLookup\",\"true\").option(\"header\",\"true\").csv(\"/home/jovyan/library/ist718/Project/Project_1/*/*/scan.csv\")\n",
    "# print((iot_bot_attacks_scan.count(), len(iot_bot_attacks_scan.columns)))\n",
    "# # Adding column ben_malli_attack for benign or mallicous attack. For mallicous its 1.\n",
    "# # Adding column attack_type for type of attack. For scan its 2.\n",
    "# iot_bot_attacks_scan = iot_bot_attacks_scan.withColumn('ben_malli_attack',lit(1))\n",
    "# iot_bot_attacks_scan = iot_bot_attacks_scan.withColumn('attack_type',lit(2))\n",
    "\n",
    "# iot_bot_attacks_tcp = spark.read.option(\"recursiveFileLookup\",\"true\").option(\"header\",\"true\").csv(\"/home/jovyan/library/ist718/Project/Project_1/*/*/tcp.csv\")\n",
    "# print((iot_bot_attacks_tcp.count(), len(iot_bot_attacks_tcp.columns)))\n",
    "# # Adding column ben_malli_attack for benign or mallicous attack. For mallicous its 1.\n",
    "# # Adding column attack_type for type of attack. For tcp its 8.\n",
    "# iot_bot_attacks_tcp = iot_bot_attacks_tcp.withColumn('ben_malli_attack',lit(1))\n",
    "# iot_bot_attacks_tcp = iot_bot_attacks_tcp.withColumn('attack_type',lit(8))\n",
    "\n",
    "# # Reading udp dataset recursively\n",
    "# iot_bot_attacks_udp = spark.read.option(\"recursiveFileLookup\",\"true\").option(\"header\",\"true\").csv(\"/home/jovyan/library/ist718/Project/Project_1/*/*/udp.csv\")\n",
    "# print((iot_bot_attacks_udp.count(), len(iot_bot_attacks_udp.columns)))\n",
    "# # Adding column ben_malli_attack for benign or mallicous attack. For mallicous its 1.\n",
    "# # Adding column attack_type for type of attack. For udp its 4.\n",
    "# iot_bot_attacks_udp = iot_bot_attacks_udp.withColumn('ben_malli_attack',lit(1))\n",
    "# iot_bot_attacks_udp = iot_bot_attacks_udp.withColumn('attack_type',lit(4))\n",
    "\n",
    "# # Reading ack dataset recursively\n",
    "# iot_bot_attacks_ack = spark.read.option(\"recursiveFileLookup\",\"true\").option(\"header\",\"true\").csv(\"/home/jovyan/library/ist718/Project/Project_1/*/*/ack.csv\")\n",
    "# print((iot_bot_attacks_ack.count(), len(iot_bot_attacks_ack.columns)))\n",
    "# # Adding column ben_malli_attack for benign or mallicous attack. For mallicous its 1.\n",
    "# # Adding column attack_type for type of attack. For ack its 1.\n",
    "# iot_bot_attacks_ack = iot_bot_attacks_ack.withColumn('ben_malli_attack',lit(1))\n",
    "# iot_bot_attacks_ack = iot_bot_attacks_ack.withColumn('attack_type',lit(1))\n",
    "\n",
    "# # Reading syn dataset recursively\n",
    "# iot_bot_attacks_syn = spark.read.option(\"recursiveFileLookup\",\"true\").option(\"header\",\"true\").csv(\"/home/jovyan/library/ist718/Project/Project_1/*/*/syn.csv\")\n",
    "# print((iot_bot_attacks_syn.count(), len(iot_bot_attacks_syn.columns)))\n",
    "# # Adding column ben_malli_attack for benign or mallicous attack. For mallicous its 1.\n",
    "# # Adding column attack_type for type of attack. For syn its 5.\n",
    "# iot_bot_attacks_syn = iot_bot_attacks_syn.withColumn('ben_malli_attack',lit(1))\n",
    "# iot_bot_attacks_syn = iot_bot_attacks_syn.withColumn('attack_type',lit(5))\n",
    "\n",
    "# # Reading udpplain dataset recursively\n",
    "# iot_bot_attacks_udpplain = spark.read.option(\"recursiveFileLookup\",\"true\").option(\"header\",\"true\").csv(\"/home/jovyan/library/ist718/Project/Project_1/*/*/udpplain.csv\")\n",
    "# print((iot_bot_attacks_udpplain.count(), len(iot_bot_attacks_udpplain.columns)))\n",
    "# # Adding column ben_malli_attack for benign or mallicous attack. For mallicous its 1.\n",
    "# # Adding column attack_type for type of attack. For udpplain its 3.\n",
    "# iot_bot_attacks_udpplain = iot_bot_attacks_udpplain.withColumn('ben_malli_attack',lit(1))\n",
    "# iot_bot_attacks_udpplain = iot_bot_attacks_udpplain.withColumn('attack_type',lit(3))"
   ]
  },
  {
   "cell_type": "code",
   "execution_count": 4,
   "id": "cooked-register",
   "metadata": {},
   "outputs": [],
   "source": [
    "# Merging all the attack dataframe into iot_attacks dataframe\n",
    "iot_attacks = iot_bot_attacks_benign.union(iot_bot_attacks_combo)\n",
    "iot_attacks = iot_attacks.union(iot_bot_attacks_junk)\n",
    "iot_attacks = iot_attacks.union(iot_bot_attacks_scan)\n",
    "iot_attacks = iot_attacks.union(iot_bot_attacks_tcp)\n",
    "iot_attacks = iot_attacks.union(iot_bot_attacks_udp)\n",
    "iot_attacks = iot_attacks.union(iot_bot_attacks_ack)\n",
    "iot_attacks = iot_attacks.union(iot_bot_attacks_syn)\n",
    "iot_attacks = iot_attacks.union(iot_bot_attacks_udpplain)"
   ]
  },
  {
   "cell_type": "code",
   "execution_count": 5,
   "id": "grand-secondary",
   "metadata": {},
   "outputs": [
    {
     "name": "stdout",
     "output_type": "stream",
     "text": [
      "(926202, 117)\n"
     ]
    }
   ],
   "source": [
    "# Checking the rows and columns in the final iot_attacks dataset\n",
    "print((iot_attacks.count(), len(iot_attacks.columns)))"
   ]
  },
  {
   "cell_type": "markdown",
   "id": "minus-jimmy",
   "metadata": {},
   "source": [
    "### Creating the list of Column Names ###"
   ]
  },
  {
   "cell_type": "code",
   "execution_count": 6,
   "id": "fancy-gamma",
   "metadata": {},
   "outputs": [],
   "source": [
    "ColNames = ['MI_dir_L5_weight','MI_dir_L5_mean','MI_dir_L5_variance','MI_dir_L3_weight','MI_dir_L3_mean','MI_dir_L3_variance',\n",
    "            'MI_dir_L1_weight','MI_dir_L1_mean','MI_dir_L1_variance','MI_dir_L01_weight','MI_dir_L01_mean','MI_dir_L01_variance',\n",
    "            'MI_dir_L001_weight','MI_dir_L001_mean','MI_dir_L001_variance','H_L5_weight','H_L5_mean','H_L5_variance','H_L3_weight',\n",
    "            'H_L3_mean','H_L3_variance','H_L1_weight','H_L1_mean','H_L1_variance','H_L01_weight','H_L01_mean','H_L01_variance',\n",
    "            'H_L001_weight','H_L001_mean','H_L001_variance','HH_L5_weight','HH_L5_mean','HH_L5_std','HH_L5_magnitude','HH_L5_radius',\n",
    "            'HH_L5_covariance','HH_L5_pcc','HH_L3_weight','HH_L3_mean','HH_L3_std','HH_L3_magnitude','HH_L3_radius','HH_L3_covariance',\n",
    "            'HH_L3_pcc','HH_L1_weight','HH_L1_mean','HH_L1_std','HH_L1_magnitude','HH_L1_radius','HH_L1_covariance','HH_L1_pcc',\n",
    "            'HH_L01_weight','HH_L01_mean','HH_L01_std','HH_L01_magnitude','HH_L01_radius','HH_L01_covariance','HH_L01_pcc',\n",
    "            'HH_L001_weight','HH_L001_mean','HH_L001_std','HH_L001_magnitude','HH_L001_radius','HH_L001_covariance','HH_L001_pcc',\n",
    "            'HH_jit_L5_weight','HH_jit_L5_mean','HH_jit_L5_variance','HH_jit_L3_weight','HH_jit_L3_mean','HH_jit_L3_variance',\n",
    "            'HH_jit_L1_weight','HH_jit_L1_mean','HH_jit_L1_variance','HH_jit_L01_weight','HH_jit_L01_mean','HH_jit_L01_variance',\n",
    "            'HH_jit_L001_weight','HH_jit_L001_mean','HH_jit_L001_variance','HpHp_L5_weight','HpHp_L5_mean','HpHp_L5_std',\n",
    "            'HpHp_L5_magnitude','HpHp_L5_radius','HpHp_L5_covariance','HpHp_L5_pcc','HpHp_L3_weight','HpHp_L3_mean','HpHp_L3_std',\n",
    "            'HpHp_L3_magnitude','HpHp_L3_radius','HpHp_L3_covariance','HpHp_L3_pcc','HpHp_L1_weight','HpHp_L1_mean','HpHp_L1_std',\n",
    "            'HpHp_L1_magnitude','HpHp_L1_radius','HpHp_L1_covariance','HpHp_L1_pcc','HpHp_L01_weight','HpHp_L01_mean','HpHp_L01_std',\n",
    "            'HpHp_L01_magnitude','HpHp_L01_radius','HpHp_L01_covariance','HpHp_L01_pcc','HpHp_L001_weight','HpHp_L001_mean',\n",
    "            'HpHp_L001_std','HpHp_L001_magnitude','HpHp_L001_radius','HpHp_L001_covariance','HpHp_L001_pcc','ben_malli_attack',\n",
    "            'attack_type']"
   ]
  },
  {
   "cell_type": "code",
   "execution_count": 7,
   "id": "acting-reason",
   "metadata": {},
   "outputs": [],
   "source": [
    "iot_attacks = iot_attacks.toDF(*ColNames)"
   ]
  },
  {
   "cell_type": "markdown",
   "id": "married-marking",
   "metadata": {},
   "source": [
    "### Checking the datatypes for each column in iot_attacks dataset ###"
   ]
  },
  {
   "cell_type": "code",
   "execution_count": 8,
   "id": "refined-intro",
   "metadata": {
    "scrolled": true
   },
   "outputs": [
    {
     "data": {
      "text/plain": [
       "[('MI_dir_L5_weight', 'string'),\n",
       " ('MI_dir_L5_mean', 'string'),\n",
       " ('MI_dir_L5_variance', 'string'),\n",
       " ('MI_dir_L3_weight', 'string'),\n",
       " ('MI_dir_L3_mean', 'string'),\n",
       " ('MI_dir_L3_variance', 'string'),\n",
       " ('MI_dir_L1_weight', 'string'),\n",
       " ('MI_dir_L1_mean', 'string'),\n",
       " ('MI_dir_L1_variance', 'string'),\n",
       " ('MI_dir_L01_weight', 'string'),\n",
       " ('MI_dir_L01_mean', 'string'),\n",
       " ('MI_dir_L01_variance', 'string'),\n",
       " ('MI_dir_L001_weight', 'string'),\n",
       " ('MI_dir_L001_mean', 'string'),\n",
       " ('MI_dir_L001_variance', 'string'),\n",
       " ('H_L5_weight', 'string'),\n",
       " ('H_L5_mean', 'string'),\n",
       " ('H_L5_variance', 'string'),\n",
       " ('H_L3_weight', 'string'),\n",
       " ('H_L3_mean', 'string'),\n",
       " ('H_L3_variance', 'string'),\n",
       " ('H_L1_weight', 'string'),\n",
       " ('H_L1_mean', 'string'),\n",
       " ('H_L1_variance', 'string'),\n",
       " ('H_L01_weight', 'string'),\n",
       " ('H_L01_mean', 'string'),\n",
       " ('H_L01_variance', 'string'),\n",
       " ('H_L001_weight', 'string'),\n",
       " ('H_L001_mean', 'string'),\n",
       " ('H_L001_variance', 'string'),\n",
       " ('HH_L5_weight', 'string'),\n",
       " ('HH_L5_mean', 'string'),\n",
       " ('HH_L5_std', 'string'),\n",
       " ('HH_L5_magnitude', 'string'),\n",
       " ('HH_L5_radius', 'string'),\n",
       " ('HH_L5_covariance', 'string'),\n",
       " ('HH_L5_pcc', 'string'),\n",
       " ('HH_L3_weight', 'string'),\n",
       " ('HH_L3_mean', 'string'),\n",
       " ('HH_L3_std', 'string'),\n",
       " ('HH_L3_magnitude', 'string'),\n",
       " ('HH_L3_radius', 'string'),\n",
       " ('HH_L3_covariance', 'string'),\n",
       " ('HH_L3_pcc', 'string'),\n",
       " ('HH_L1_weight', 'string'),\n",
       " ('HH_L1_mean', 'string'),\n",
       " ('HH_L1_std', 'string'),\n",
       " ('HH_L1_magnitude', 'string'),\n",
       " ('HH_L1_radius', 'string'),\n",
       " ('HH_L1_covariance', 'string'),\n",
       " ('HH_L1_pcc', 'string'),\n",
       " ('HH_L01_weight', 'string'),\n",
       " ('HH_L01_mean', 'string'),\n",
       " ('HH_L01_std', 'string'),\n",
       " ('HH_L01_magnitude', 'string'),\n",
       " ('HH_L01_radius', 'string'),\n",
       " ('HH_L01_covariance', 'string'),\n",
       " ('HH_L01_pcc', 'string'),\n",
       " ('HH_L001_weight', 'string'),\n",
       " ('HH_L001_mean', 'string'),\n",
       " ('HH_L001_std', 'string'),\n",
       " ('HH_L001_magnitude', 'string'),\n",
       " ('HH_L001_radius', 'string'),\n",
       " ('HH_L001_covariance', 'string'),\n",
       " ('HH_L001_pcc', 'string'),\n",
       " ('HH_jit_L5_weight', 'string'),\n",
       " ('HH_jit_L5_mean', 'string'),\n",
       " ('HH_jit_L5_variance', 'string'),\n",
       " ('HH_jit_L3_weight', 'string'),\n",
       " ('HH_jit_L3_mean', 'string'),\n",
       " ('HH_jit_L3_variance', 'string'),\n",
       " ('HH_jit_L1_weight', 'string'),\n",
       " ('HH_jit_L1_mean', 'string'),\n",
       " ('HH_jit_L1_variance', 'string'),\n",
       " ('HH_jit_L01_weight', 'string'),\n",
       " ('HH_jit_L01_mean', 'string'),\n",
       " ('HH_jit_L01_variance', 'string'),\n",
       " ('HH_jit_L001_weight', 'string'),\n",
       " ('HH_jit_L001_mean', 'string'),\n",
       " ('HH_jit_L001_variance', 'string'),\n",
       " ('HpHp_L5_weight', 'string'),\n",
       " ('HpHp_L5_mean', 'string'),\n",
       " ('HpHp_L5_std', 'string'),\n",
       " ('HpHp_L5_magnitude', 'string'),\n",
       " ('HpHp_L5_radius', 'string'),\n",
       " ('HpHp_L5_covariance', 'string'),\n",
       " ('HpHp_L5_pcc', 'string'),\n",
       " ('HpHp_L3_weight', 'string'),\n",
       " ('HpHp_L3_mean', 'string'),\n",
       " ('HpHp_L3_std', 'string'),\n",
       " ('HpHp_L3_magnitude', 'string'),\n",
       " ('HpHp_L3_radius', 'string'),\n",
       " ('HpHp_L3_covariance', 'string'),\n",
       " ('HpHp_L3_pcc', 'string'),\n",
       " ('HpHp_L1_weight', 'string'),\n",
       " ('HpHp_L1_mean', 'string'),\n",
       " ('HpHp_L1_std', 'string'),\n",
       " ('HpHp_L1_magnitude', 'string'),\n",
       " ('HpHp_L1_radius', 'string'),\n",
       " ('HpHp_L1_covariance', 'string'),\n",
       " ('HpHp_L1_pcc', 'string'),\n",
       " ('HpHp_L01_weight', 'string'),\n",
       " ('HpHp_L01_mean', 'string'),\n",
       " ('HpHp_L01_std', 'string'),\n",
       " ('HpHp_L01_magnitude', 'string'),\n",
       " ('HpHp_L01_radius', 'string'),\n",
       " ('HpHp_L01_covariance', 'string'),\n",
       " ('HpHp_L01_pcc', 'string'),\n",
       " ('HpHp_L001_weight', 'string'),\n",
       " ('HpHp_L001_mean', 'string'),\n",
       " ('HpHp_L001_std', 'string'),\n",
       " ('HpHp_L001_magnitude', 'string'),\n",
       " ('HpHp_L001_radius', 'string'),\n",
       " ('HpHp_L001_covariance', 'string'),\n",
       " ('HpHp_L001_pcc', 'string'),\n",
       " ('ben_malli_attack', 'int'),\n",
       " ('attack_type', 'int')]"
      ]
     },
     "execution_count": 8,
     "metadata": {},
     "output_type": "execute_result"
    }
   ],
   "source": [
    "iot_attacks.dtypes"
   ]
  },
  {
   "cell_type": "markdown",
   "id": "planned-contemporary",
   "metadata": {},
   "source": [
    "### Casting each column from iot_attacks dataset into float ###"
   ]
  },
  {
   "cell_type": "code",
   "execution_count": 9,
   "id": "capable-induction",
   "metadata": {},
   "outputs": [],
   "source": [
    "for col in iot_attacks.columns:\n",
    "    iot_attacks = iot_attacks.withColumn(col, iot_attacks[col].cast(t.FloatType()))"
   ]
  },
  {
   "cell_type": "markdown",
   "id": "auburn-republican",
   "metadata": {},
   "source": [
    "### Counting the datapoint for each type of attack ###"
   ]
  },
  {
   "cell_type": "code",
   "execution_count": 10,
   "id": "threaded-shirt",
   "metadata": {},
   "outputs": [
    {
     "data": {
      "text/html": [
       "<div>\n",
       "<style scoped>\n",
       "    .dataframe tbody tr th:only-of-type {\n",
       "        vertical-align: middle;\n",
       "    }\n",
       "\n",
       "    .dataframe tbody tr th {\n",
       "        vertical-align: top;\n",
       "    }\n",
       "\n",
       "    .dataframe thead th {\n",
       "        text-align: right;\n",
       "    }\n",
       "</style>\n",
       "<table border=\"1\" class=\"dataframe\">\n",
       "  <thead>\n",
       "    <tr style=\"text-align: right;\">\n",
       "      <th></th>\n",
       "      <th>attack_type</th>\n",
       "      <th>attackCount</th>\n",
       "    </tr>\n",
       "  </thead>\n",
       "  <tbody>\n",
       "    <tr>\n",
       "      <th>0</th>\n",
       "      <td>0.0</td>\n",
       "      <td>100107</td>\n",
       "    </tr>\n",
       "    <tr>\n",
       "      <th>1</th>\n",
       "      <td>1.0</td>\n",
       "      <td>103650</td>\n",
       "    </tr>\n",
       "    <tr>\n",
       "      <th>2</th>\n",
       "      <td>2.0</td>\n",
       "      <td>101326</td>\n",
       "    </tr>\n",
       "    <tr>\n",
       "      <th>3</th>\n",
       "      <td>3.0</td>\n",
       "      <td>104992</td>\n",
       "    </tr>\n",
       "    <tr>\n",
       "      <th>4</th>\n",
       "      <td>4.0</td>\n",
       "      <td>103207</td>\n",
       "    </tr>\n",
       "    <tr>\n",
       "      <th>5</th>\n",
       "      <td>5.0</td>\n",
       "      <td>103114</td>\n",
       "    </tr>\n",
       "    <tr>\n",
       "      <th>6</th>\n",
       "      <td>6.0</td>\n",
       "      <td>101860</td>\n",
       "    </tr>\n",
       "    <tr>\n",
       "      <th>7</th>\n",
       "      <td>7.0</td>\n",
       "      <td>104636</td>\n",
       "    </tr>\n",
       "    <tr>\n",
       "      <th>8</th>\n",
       "      <td>8.0</td>\n",
       "      <td>103310</td>\n",
       "    </tr>\n",
       "  </tbody>\n",
       "</table>\n",
       "</div>"
      ],
      "text/plain": [
       "   attack_type  attackCount\n",
       "0          0.0       100107\n",
       "1          1.0       103650\n",
       "2          2.0       101326\n",
       "3          3.0       104992\n",
       "4          4.0       103207\n",
       "5          5.0       103114\n",
       "6          6.0       101860\n",
       "7          7.0       104636\n",
       "8          8.0       103310"
      ]
     },
     "execution_count": 10,
     "metadata": {},
     "output_type": "execute_result"
    }
   ],
   "source": [
    "attack=iot_attacks.groupBy('attack_type').agg(fn.count('attack_type').alias('attackCount')).toPandas()\n",
    "attack=attack.sort_values('attack_type').reset_index(drop=True)\n",
    "attack"
   ]
  },
  {
   "cell_type": "markdown",
   "id": "dental-stretch",
   "metadata": {},
   "source": [
    "### Graph to check number of data points for each attack and for benign and mallicous attack ###"
   ]
  },
  {
   "cell_type": "code",
   "execution_count": 11,
   "id": "stuck-signal",
   "metadata": {},
   "outputs": [
    {
     "data": {
      "image/png": "[encoded data removed]",
      "text/plain": [
       "<Figure size 432x288 with 1 Axes>"
      ]
     },
     "metadata": {
      "needs_background": "light"
     },
     "output_type": "display_data"
    }
   ],
   "source": [
    "attack.plot.bar(x = 'attack_type', y='attackCount', title = 'Datapoints for each attack');"
   ]
  },
  {
   "cell_type": "code",
   "execution_count": 12,
   "id": "secret-billy",
   "metadata": {},
   "outputs": [
    {
     "data": {
      "text/html": [
       "<div>\n",
       "<style scoped>\n",
       "    .dataframe tbody tr th:only-of-type {\n",
       "        vertical-align: middle;\n",
       "    }\n",
       "\n",
       "    .dataframe tbody tr th {\n",
       "        vertical-align: top;\n",
       "    }\n",
       "\n",
       "    .dataframe thead th {\n",
       "        text-align: right;\n",
       "    }\n",
       "</style>\n",
       "<table border=\"1\" class=\"dataframe\">\n",
       "  <thead>\n",
       "    <tr style=\"text-align: right;\">\n",
       "      <th></th>\n",
       "      <th>ben_malli_attack</th>\n",
       "      <th>attackCount</th>\n",
       "    </tr>\n",
       "  </thead>\n",
       "  <tbody>\n",
       "    <tr>\n",
       "      <th>0</th>\n",
       "      <td>0.0</td>\n",
       "      <td>100107</td>\n",
       "    </tr>\n",
       "    <tr>\n",
       "      <th>1</th>\n",
       "      <td>1.0</td>\n",
       "      <td>826095</td>\n",
       "    </tr>\n",
       "  </tbody>\n",
       "</table>\n",
       "</div>"
      ],
      "text/plain": [
       "   ben_malli_attack  attackCount\n",
       "0               0.0       100107\n",
       "1               1.0       826095"
      ]
     },
     "execution_count": 12,
     "metadata": {},
     "output_type": "execute_result"
    }
   ],
   "source": [
    "\n",
    "bin_attack=iot_attacks.groupBy('ben_malli_attack').agg(fn.count('ben_malli_attack').alias('attackCount')).toPandas()\n",
    "bin_attack=bin_attack.sort_values('ben_malli_attack').reset_index(drop=True)\n",
    "bin_attack"
   ]
  },
  {
   "cell_type": "code",
   "execution_count": 13,
   "id": "rental-eugene",
   "metadata": {},
   "outputs": [
    {
     "data": {
      "image/png": "[encoded data removed]",
      "text/plain": [
       "<Figure size 432x288 with 1 Axes>"
      ]
     },
     "metadata": {
      "needs_background": "light"
     },
     "output_type": "display_data"
    }
   ],
   "source": [
    "bin_attack.plot.bar(x = 'ben_malli_attack', y='attackCount', title = 'Datapoints for each attack');"
   ]
  },
  {
   "cell_type": "markdown",
   "id": "recent-cherry",
   "metadata": {},
   "source": [
    "### Removing the label columns from the list of column names ###"
   ]
  },
  {
   "cell_type": "code",
   "execution_count": 14,
   "id": "public-beauty",
   "metadata": {},
   "outputs": [
    {
     "data": {
      "text/plain": [
       "115"
      ]
     },
     "execution_count": 14,
     "metadata": {},
     "output_type": "execute_result"
    }
   ],
   "source": [
    "ColNames = ColNames[0:115]\n",
    "len(ColNames)"
   ]
  },
  {
   "cell_type": "markdown",
   "id": "accessory-progress",
   "metadata": {},
   "source": [
    "### Defining Various resources which we will need for classification. Logistic for Binary classification and Random Forest for Multinomial classification. ###"
   ]
  },
  {
   "cell_type": "code",
   "execution_count": 15,
   "id": "theoretical-auckland",
   "metadata": {},
   "outputs": [],
   "source": [
    "va = feature.VectorAssembler(inputCols=ColNames, outputCol=\"unfeatures\")\n",
    "sc = feature.StandardScaler(inputCol=\"unfeatures\",outputCol=\"features\")\n",
    "lg = LogisticRegression().setLabelCol('ben_malli_attack').setFeaturesCol('features')\n",
    "rf = RandomForestClassifier().setLabelCol('attack_type').setFeaturesCol('features')\n",
    "\n",
    "\n",
    "training_df, validation_df, testing_df = iot_attacks.randomSplit([0.7, 0.2, 0.1], seed=0)\n",
    "\n",
    "\n",
    "\n",
    "multi_eval = evaluation.MulticlassClassificationEvaluator(labelCol = 'attack_type')# add auc\n",
    "binary_eval = evaluation.BinaryClassificationEvaluator(labelCol='ben_malli_attack')\n",
    "\n"
   ]
  },
  {
   "cell_type": "markdown",
   "id": "unsigned-tuesday",
   "metadata": {},
   "source": [
    "### Splitting the dataset for cross validation ###"
   ]
  },
  {
   "cell_type": "code",
   "execution_count": 16,
   "id": "western-austria",
   "metadata": {},
   "outputs": [
    {
     "data": {
      "text/plain": [
       "[648019, 185393, 92790]"
      ]
     },
     "execution_count": 16,
     "metadata": {},
     "output_type": "execute_result"
    }
   ],
   "source": [
    "[training_df.count(),validation_df.count(),testing_df.count()]"
   ]
  },
  {
   "cell_type": "markdown",
   "id": "shaped-tackle",
   "metadata": {},
   "source": [
    "## <center>Logistic Regression and Random Forest for Binary Classification</center> ##"
   ]
  },
  {
   "cell_type": "markdown",
   "id": "extended-iceland",
   "metadata": {},
   "source": [
    "### Binary Classification of Benign and Malicious attack ###"
   ]
  },
  {
   "cell_type": "code",
   "execution_count": 17,
   "id": "affected-karma",
   "metadata": {},
   "outputs": [],
   "source": [
    "pipe_logis_1 = Pipeline(stages = [va,sc,lg.setRegParam(0.1).setElasticNetParam(0.2)]).fit(training_df)\n",
    "pipe_logis_2 = Pipeline(stages = [va,sc,lg.setRegParam(0.2).setElasticNetParam(0.4)]).fit(training_df)\n",
    "pipe_logis_3 = Pipeline(stages = [va,sc,lg.setRegParam(0.3).setElasticNetParam(0.5)]).fit(training_df)\n",
    "pipe_random_3 = Pipeline(stages=[va,sc,rf.setMaxDepth(30).setImpurity('gini').setNumTrees(100).setLabelCol('ben_malli_attack')]).fit(training_df)"
   ]
  },
  {
   "cell_type": "markdown",
   "id": "monetary-messaging",
   "metadata": {},
   "source": [
    "### Checking the weights for different logistic regression model ###"
   ]
  },
  {
   "cell_type": "code",
   "execution_count": 18,
   "id": "funded-arbor",
   "metadata": {
    "scrolled": false
   },
   "outputs": [
    {
     "data": {
      "text/html": [
       "<div>\n",
       "<style scoped>\n",
       "    .dataframe tbody tr th:only-of-type {\n",
       "        vertical-align: middle;\n",
       "    }\n",
       "\n",
       "    .dataframe tbody tr th {\n",
       "        vertical-align: top;\n",
       "    }\n",
       "\n",
       "    .dataframe thead th {\n",
       "        text-align: right;\n",
       "    }\n",
       "</style>\n",
       "<table border=\"1\" class=\"dataframe\">\n",
       "  <thead>\n",
       "    <tr style=\"text-align: right;\">\n",
       "      <th></th>\n",
       "      <th>column</th>\n",
       "      <th>weight</th>\n",
       "    </tr>\n",
       "  </thead>\n",
       "  <tbody>\n",
       "    <tr>\n",
       "      <th>3</th>\n",
       "      <td>MI_dir_L3_weight</td>\n",
       "      <td>0.167714</td>\n",
       "    </tr>\n",
       "    <tr>\n",
       "      <th>21</th>\n",
       "      <td>H_L1_weight</td>\n",
       "      <td>0.173757</td>\n",
       "    </tr>\n",
       "    <tr>\n",
       "      <th>6</th>\n",
       "      <td>MI_dir_L1_weight</td>\n",
       "      <td>0.173757</td>\n",
       "    </tr>\n",
       "    <tr>\n",
       "      <th>24</th>\n",
       "      <td>H_L01_weight</td>\n",
       "      <td>0.179064</td>\n",
       "    </tr>\n",
       "    <tr>\n",
       "      <th>9</th>\n",
       "      <td>MI_dir_L01_weight</td>\n",
       "      <td>0.179064</td>\n",
       "    </tr>\n",
       "    <tr>\n",
       "      <th>69</th>\n",
       "      <td>HH_jit_L3_mean</td>\n",
       "      <td>0.226523</td>\n",
       "    </tr>\n",
       "    <tr>\n",
       "      <th>66</th>\n",
       "      <td>HH_jit_L5_mean</td>\n",
       "      <td>0.226552</td>\n",
       "    </tr>\n",
       "    <tr>\n",
       "      <th>72</th>\n",
       "      <td>HH_jit_L1_mean</td>\n",
       "      <td>0.232260</td>\n",
       "    </tr>\n",
       "    <tr>\n",
       "      <th>75</th>\n",
       "      <td>HH_jit_L01_mean</td>\n",
       "      <td>0.267754</td>\n",
       "    </tr>\n",
       "    <tr>\n",
       "      <th>78</th>\n",
       "      <td>HH_jit_L001_mean</td>\n",
       "      <td>0.275829</td>\n",
       "    </tr>\n",
       "  </tbody>\n",
       "</table>\n",
       "</div>"
      ],
      "text/plain": [
       "               column    weight\n",
       "3    MI_dir_L3_weight  0.167714\n",
       "21        H_L1_weight  0.173757\n",
       "6    MI_dir_L1_weight  0.173757\n",
       "24       H_L01_weight  0.179064\n",
       "9   MI_dir_L01_weight  0.179064\n",
       "69     HH_jit_L3_mean  0.226523\n",
       "66     HH_jit_L5_mean  0.226552\n",
       "72     HH_jit_L1_mean  0.232260\n",
       "75    HH_jit_L01_mean  0.267754\n",
       "78   HH_jit_L001_mean  0.275829"
      ]
     },
     "execution_count": 18,
     "metadata": {},
     "output_type": "execute_result"
    }
   ],
   "source": [
    "pd.DataFrame(list(zip(training_df.columns[0:116], pipe_logis_1.stages[-1].coefficients.toArray())),\n",
    "            columns = ['column', 'weight']).sort_values('weight')[-10:]"
   ]
  },
  {
   "cell_type": "markdown",
   "id": "absolute-roommate",
   "metadata": {},
   "source": [
    "### Checking the weights for different Random Forest model ###"
   ]
  },
  {
   "cell_type": "code",
   "execution_count": 19,
   "id": "closed-academy",
   "metadata": {},
   "outputs": [
    {
     "data": {
      "text/html": [
       "<div>\n",
       "<style scoped>\n",
       "    .dataframe tbody tr th:only-of-type {\n",
       "        vertical-align: middle;\n",
       "    }\n",
       "\n",
       "    .dataframe tbody tr th {\n",
       "        vertical-align: top;\n",
       "    }\n",
       "\n",
       "    .dataframe thead th {\n",
       "        text-align: right;\n",
       "    }\n",
       "</style>\n",
       "<table border=\"1\" class=\"dataframe\">\n",
       "  <thead>\n",
       "    <tr style=\"text-align: right;\">\n",
       "      <th></th>\n",
       "      <th>column</th>\n",
       "      <th>weight</th>\n",
       "    </tr>\n",
       "  </thead>\n",
       "  <tbody>\n",
       "    <tr>\n",
       "      <th>110</th>\n",
       "      <td>HpHp_L001_std</td>\n",
       "      <td>0.027091</td>\n",
       "    </tr>\n",
       "    <tr>\n",
       "      <th>112</th>\n",
       "      <td>HpHp_L001_radius</td>\n",
       "      <td>0.027303</td>\n",
       "    </tr>\n",
       "    <tr>\n",
       "      <th>12</th>\n",
       "      <td>MI_dir_L001_weight</td>\n",
       "      <td>0.028918</td>\n",
       "    </tr>\n",
       "    <tr>\n",
       "      <th>13</th>\n",
       "      <td>MI_dir_L001_mean</td>\n",
       "      <td>0.036558</td>\n",
       "    </tr>\n",
       "    <tr>\n",
       "      <th>3</th>\n",
       "      <td>MI_dir_L3_weight</td>\n",
       "      <td>0.038413</td>\n",
       "    </tr>\n",
       "    <tr>\n",
       "      <th>113</th>\n",
       "      <td>HpHp_L001_covariance</td>\n",
       "      <td>0.039889</td>\n",
       "    </tr>\n",
       "    <tr>\n",
       "      <th>53</th>\n",
       "      <td>HH_L01_std</td>\n",
       "      <td>0.045320</td>\n",
       "    </tr>\n",
       "    <tr>\n",
       "      <th>62</th>\n",
       "      <td>HH_L001_radius</td>\n",
       "      <td>0.058295</td>\n",
       "    </tr>\n",
       "    <tr>\n",
       "      <th>60</th>\n",
       "      <td>HH_L001_std</td>\n",
       "      <td>0.072743</td>\n",
       "    </tr>\n",
       "    <tr>\n",
       "      <th>78</th>\n",
       "      <td>HH_jit_L001_mean</td>\n",
       "      <td>0.122751</td>\n",
       "    </tr>\n",
       "  </tbody>\n",
       "</table>\n",
       "</div>"
      ],
      "text/plain": [
       "                   column    weight\n",
       "110         HpHp_L001_std  0.027091\n",
       "112      HpHp_L001_radius  0.027303\n",
       "12     MI_dir_L001_weight  0.028918\n",
       "13       MI_dir_L001_mean  0.036558\n",
       "3        MI_dir_L3_weight  0.038413\n",
       "113  HpHp_L001_covariance  0.039889\n",
       "53             HH_L01_std  0.045320\n",
       "62         HH_L001_radius  0.058295\n",
       "60            HH_L001_std  0.072743\n",
       "78       HH_jit_L001_mean  0.122751"
      ]
     },
     "execution_count": 19,
     "metadata": {},
     "output_type": "execute_result"
    }
   ],
   "source": [
    "pd.DataFrame(list(zip(training_df.columns[0:116], pipe_random_3.stages[-1].featureImportances.toArray())),\n",
    "            columns = ['column', 'weight']).sort_values('weight')[-10:]"
   ]
  },
  {
   "cell_type": "code",
   "execution_count": 22,
   "id": "novel-progressive",
   "metadata": {},
   "outputs": [],
   "source": [
    "#pipe_logis_2.stages[-1].coefficients"
   ]
  },
  {
   "cell_type": "markdown",
   "id": "little-navigation",
   "metadata": {},
   "source": [
    "### Plotting the ROC curve for above 3 logistic regression model ###"
   ]
  },
  {
   "cell_type": "code",
   "execution_count": 23,
   "id": "violent-happiness",
   "metadata": {},
   "outputs": [
    {
     "data": {
      "image/png": "[encoded data removed]",
      "text/plain": [
       "<Figure size 360x360 with 1 Axes>"
      ]
     },
     "metadata": {
      "needs_background": "light"
     },
     "output_type": "display_data"
    }
   ],
   "source": [
    "import matplotlib.pyplot as plt\n",
    "plt.figure(figsize=(5,5))\n",
    "plt.plot([0, 1], [0, 1], 'r--')\n",
    "plt.plot(pipe_logis_1.stages[-1].summary.roc.select('FPR').collect(),\n",
    "         pipe_logis_1.stages[-1].summary.roc.select('TPR').collect())\n",
    "plt.plot(pipe_logis_2.stages[-1].summary.roc.select('FPR').collect(),\n",
    "         pipe_logis_2.stages[-1].summary.roc.select('TPR').collect())\n",
    "plt.plot(pipe_logis_3.stages[-1].summary.roc.select('FPR').collect(),\n",
    "         pipe_logis_3.stages[-1].summary.roc.select('TPR').collect())\n",
    "plt.xlabel('FPR')\n",
    "plt.ylabel('TPR')\n",
    "plt.title(\"ROC Curve for Logistic Regression\")\n",
    "plt.legend([\"Base Line\",\"Logistic 1(Reg 0.1, El =0.2)\",\"Logistic 2(Reg 0.2, El =0.4)\",\"Logistic 3(Reg 0.3, El =0.5)\"])\n",
    "plt.show()\n"
   ]
  },
  {
   "cell_type": "markdown",
   "id": "lasting-journalism",
   "metadata": {},
   "source": [
    "### Creating the function to calculate accuracy, recall, precision and f-1 score on the test data ### "
   ]
  },
  {
   "cell_type": "code",
   "execution_count": 24,
   "id": "vertical-baker",
   "metadata": {},
   "outputs": [],
   "source": [
    "# Note the function needs a testing df to be present. \n",
    "\n",
    "def GetPerformanceLogistic(pipe_logis):\n",
    "    predict_df=pipe_logis.transform(testing_df).select('ben_malli_attack','prediction')\n",
    "    # get predictions on testing data set and selecting only the required columns \n",
    "\n",
    "\n",
    "    # The code below create a column which checks for each condition to hold true or not. \n",
    "    # After doing this I realized we could have just used toPandas and done it in simpler way. \n",
    "\n",
    "    predict_df=predict_df.withColumn('TP',fn.when((fn.col('ben_malli_attack')==1)&(fn.col('prediction')==1),1).otherwise(0))\n",
    "    predict_df=predict_df.withColumn('FP',fn.when((fn.col('ben_malli_attack')==0)&(fn.col('prediction')==1),1).otherwise(0))\n",
    "    predict_df=predict_df.withColumn('TN',fn.when((fn.col('ben_malli_attack')==0)&(fn.col('prediction')==0),1).otherwise(0))\n",
    "    predict_df=predict_df.withColumn('FN',fn.when((fn.col('ben_malli_attack')==1)&(fn.col('prediction')==0),1).otherwise(0))\n",
    "\n",
    "    sums = predict_df.groupBy().sum().toPandas()\n",
    "    # Takes the sums of all cases to get TP,FP,TN,FN from the predict_df\n",
    "\n",
    "    # Just extracting the values\n",
    "    TP = sums['sum(TP)']\n",
    "    FP = sums['sum(FP)']\n",
    "    TN = sums['sum(TN)']\n",
    "    FN = sums['sum(FN)']\n",
    "\n",
    "    # basic formulaes.\n",
    "    precision = (TP/(TP+FP))[0]\n",
    "    recall = (TP/(TP+FN))[0]\n",
    "    f1_score = (2*(precision*recall))/(precision+recall)\n",
    "                                       \n",
    "    accu = ((TP +TN)/(FP+FN+TP+TN))[0]\n",
    "    performanceArray = [accu,f1_score,precision,recall]\n",
    "    \n",
    "    TP,TN,FP,FN = None,None,None,None\n",
    "    print(performanceArray)\n",
    "    return performanceArray\n",
    "    \n",
    "    \n",
    "    \n",
    "\n",
    "#training_df.groupBy('ben_malli_attack').agg(fn.count('ben_malli_attack').alias('count')).toPandas()   \n",
    "#testing_df.groupBy('ben_malli_attack').agg(fn.count('ben_malli_attack').alias('count')).toPandas()\n",
    "\n",
    "#print('errors',(FP+FN)[0])\n"
   ]
  },
  {
   "cell_type": "markdown",
   "id": "hourly-marks",
   "metadata": {},
   "source": [
    "### Comparing different logistic regression model based on AUC using the validation data.  ###"
   ]
  },
  {
   "cell_type": "code",
   "execution_count": 25,
   "id": "hairy-heath",
   "metadata": {},
   "outputs": [],
   "source": [
    "AUC1 = binary_eval.evaluate(pipe_logis_1.transform(validation_df))\n",
    "AUC2 = binary_eval.evaluate(pipe_logis_2.transform(validation_df)) \n",
    "AUC3 = binary_eval.evaluate(pipe_logis_3.transform(validation_df))\n",
    "\n",
    "AUCrf = binary_eval.evaluate(pipe_random_3.transform(validation_df))"
   ]
  },
  {
   "cell_type": "code",
   "execution_count": 52,
   "id": "treated-publication",
   "metadata": {
    "scrolled": true
   },
   "outputs": [
    {
     "name": "stdout",
     "output_type": "stream",
     "text": [
      "Model 1 logistic (Reg = 0.1, Elastic net = 0.2) AUC:  0.9990245984562174\n",
      "Model 2 logistic (Reg = 0.2, Elastic net = 0.4) AUC:  0.9989186704427166\n",
      "Model 3 logistic (Reg = 0.3, Elastic net = 0.5) AUC:  0.7516791661142378\n",
      "Model for binary Random forest (Max Depth 30, NumTrees 100) AUC: 0.9999999723008617\n"
     ]
    }
   ],
   "source": [
    "print(\"Model 1 logistic (Reg = 0.1, Elastic net = 0.2) AUC: \", AUC1)\n",
    "print(\"Model 2 logistic (Reg = 0.2, Elastic net = 0.4) AUC: \", AUC2)\n",
    "print(\"Model 3 logistic (Reg = 0.3, Elastic net = 0.5) AUC: \", AUC3)\n",
    "print(\"Model for binary Random forest (Max Depth 30, NumTrees 100) AUC:\",AUCrf)"
   ]
  },
  {
   "cell_type": "markdown",
   "id": "silent-novel",
   "metadata": {},
   "source": [
    "### Getting the Accuracy, F_1 Score, Recall and precision for each model using our function ###"
   ]
  },
  {
   "cell_type": "code",
   "execution_count": 27,
   "id": "basic-antique",
   "metadata": {
    "scrolled": true
   },
   "outputs": [
    {
     "name": "stdout",
     "output_type": "stream",
     "text": [
      "[0.9981140209074254, 0.998943192043142, 0.9988889023079431, 0.9989974876799691]\n"
     ]
    },
    {
     "data": {
      "text/plain": [
       "[0.9981140209074254, 0.998943192043142, 0.9988889023079431, 0.9989974876799691]"
      ]
     },
     "execution_count": 27,
     "metadata": {},
     "output_type": "execute_result"
    }
   ],
   "source": [
    "GetPerformanceLogistic(pipe_logis_1)"
   ]
  },
  {
   "cell_type": "code",
   "execution_count": 28,
   "id": "entitled-moore",
   "metadata": {
    "scrolled": true
   },
   "outputs": [
    {
     "name": "stdout",
     "output_type": "stream",
     "text": [
      "[0.8985127707727126, 0.9461802678127483, 0.8979941636562849, 0.9998309015363803]\n"
     ]
    },
    {
     "data": {
      "text/plain": [
       "[0.8985127707727126,\n",
       " 0.9461802678127483,\n",
       " 0.8979941636562849,\n",
       " 0.9998309015363803]"
      ]
     },
     "execution_count": 28,
     "metadata": {},
     "output_type": "execute_result"
    }
   ],
   "source": [
    "GetPerformanceLogistic(pipe_logis_2)"
   ]
  },
  {
   "cell_type": "code",
   "execution_count": 29,
   "id": "acknowledged-finish",
   "metadata": {},
   "outputs": [
    {
     "name": "stdout",
     "output_type": "stream",
     "text": [
      "[0.8922513201853648, 0.9430579444362178, 0.8922513201853648, 1.0]\n"
     ]
    },
    {
     "data": {
      "text/plain": [
       "[0.8922513201853648, 0.9430579444362178, 0.8922513201853648, 1.0]"
      ]
     },
     "execution_count": 29,
     "metadata": {},
     "output_type": "execute_result"
    }
   ],
   "source": [
    "GetPerformanceLogistic(pipe_logis_3)"
   ]
  },
  {
   "cell_type": "code",
   "execution_count": 30,
   "id": "lesbian-break",
   "metadata": {
    "scrolled": true
   },
   "outputs": [
    {
     "name": "stdout",
     "output_type": "stream",
     "text": [
      "[0.9999461148830693, 0.9999698029339469, 1.0, 0.9999396076915644]\n"
     ]
    },
    {
     "data": {
      "text/plain": [
       "[0.9999461148830693, 0.9999698029339469, 1.0, 0.9999396076915644]"
      ]
     },
     "execution_count": 30,
     "metadata": {},
     "output_type": "execute_result"
    }
   ],
   "source": [
    "GetPerformanceLogistic(pipe_random_3)"
   ]
  },
  {
   "cell_type": "code",
   "execution_count": null,
   "id": "alike-dutch",
   "metadata": {},
   "outputs": [],
   "source": []
  },
  {
   "cell_type": "markdown",
   "id": "traditional-capital",
   "metadata": {},
   "source": [
    "### MultiNomial Classification to classify type of attacks ###"
   ]
  },
  {
   "cell_type": "code",
   "execution_count": 31,
   "id": "false-watson",
   "metadata": {},
   "outputs": [],
   "source": [
    "def accuracyMulti(pipeline):\n",
    "    pred_df=pipeline.transform(testing_df).select('attack_type','prediction')\n",
    "    pred_df = pred_df.withColumn('Correctly Classified',fn.when((fn.col('attack_type')==fn.col('prediction')),1).otherwise(0))\n",
    "    return pred_df.select('Correctly Classified').groupBy('Correctly Classified').agg(fn.count('Correctly Classified'))"
   ]
  },
  {
   "cell_type": "code",
   "execution_count": 32,
   "id": "intellectual-strength",
   "metadata": {},
   "outputs": [
    {
     "name": "stdout",
     "output_type": "stream",
     "text": [
      "0.13237416317954911\n"
     ]
    }
   ],
   "source": [
    "#pipe_random_1 = Pipeline(stages=[va,sc,rf.setMaxDepth(10).setImpurity('gini').setNumTrees(40)]).fit(training_df)\n",
    "#print(multi_eval.evaluate(pipe_random_1.transform(validation_df)))\n",
    "# using F1-score\n",
    "\n",
    "pipe_random_2 = Pipeline(stages=[va,sc,rf]).fit(training_df)\n",
    "print(multi_eval.evaluate(pipe_random_2.transform(validation_df)))\n"
   ]
  },
  {
   "cell_type": "code",
   "execution_count": 42,
   "id": "loose-lender",
   "metadata": {},
   "outputs": [
    {
     "name": "stdout",
     "output_type": "stream",
     "text": [
      "+--------------------+---------------------------+\n",
      "|Correctly Classified|count(Correctly Classified)|\n",
      "+--------------------+---------------------------+\n",
      "|                   1|                      20539|\n",
      "|                   0|                      72251|\n",
      "+--------------------+---------------------------+\n",
      "\n"
     ]
    }
   ],
   "source": [
    "accuracyMulti(pipe_random_2).show()"
   ]
  },
  {
   "cell_type": "code",
   "execution_count": 43,
   "id": "according-convertible",
   "metadata": {},
   "outputs": [],
   "source": [
    "pred_df = pipe_random_2.transform(testing_df)"
   ]
  },
  {
   "cell_type": "code",
   "execution_count": 53,
   "id": "random-breach",
   "metadata": {},
   "outputs": [
    {
     "data": {
      "text/plain": [
       "0.22134928332794482"
      ]
     },
     "execution_count": 53,
     "metadata": {},
     "output_type": "execute_result"
    }
   ],
   "source": [
    "#pred_df.limit(10).toPandas()\n",
    "20539/(20539+72251)"
   ]
  },
  {
   "cell_type": "code",
   "execution_count": 45,
   "id": "adopted-aaron",
   "metadata": {},
   "outputs": [
    {
     "name": "stdout",
     "output_type": "stream",
     "text": [
      "0.13237416317954911\n"
     ]
    }
   ],
   "source": [
    "#print(multi_eval.evaluate(pipe_random_1.transform(validation_df)))\n",
    "\n",
    "print(multi_eval.evaluate(pipe_random_2.transform(validation_df)))\n"
   ]
  },
  {
   "cell_type": "code",
   "execution_count": 46,
   "id": "arabic-science",
   "metadata": {},
   "outputs": [],
   "source": [
    "#accuracyMulti(pipe_random_1).show()"
   ]
  },
  {
   "cell_type": "code",
   "execution_count": 47,
   "id": "rational-fault",
   "metadata": {},
   "outputs": [
    {
     "name": "stdout",
     "output_type": "stream",
     "text": [
      "+--------------------+---------------------------+\n",
      "|Correctly Classified|count(Correctly Classified)|\n",
      "+--------------------+---------------------------+\n",
      "|                   1|                      20539|\n",
      "|                   0|                      72251|\n",
      "+--------------------+---------------------------+\n",
      "\n"
     ]
    }
   ],
   "source": [
    "accuracyMulti(pipe_random_2).show()"
   ]
  },
  {
   "cell_type": "markdown",
   "id": "included-wednesday",
   "metadata": {},
   "source": [
    "## <center> MultiLayer Perceptron Classifier</center> ##"
   ]
  },
  {
   "cell_type": "markdown",
   "id": "described-arkansas",
   "metadata": {},
   "source": [
    "### Multinomial classification to classify different type of attack ###"
   ]
  },
  {
   "cell_type": "code",
   "execution_count": 39,
   "id": "special-contest",
   "metadata": {},
   "outputs": [],
   "source": [
    "deepL = classification.MultilayerPerceptronClassifier(seed=0).\\\n",
    "    setStepSize(0.01).\\\n",
    "    setMaxIter(400).\\\n",
    "    setFeaturesCol('features').\\\n",
    "    setLabelCol('attack_type').\\\n",
    "    setLayers([115,40,40,15,9])"
   ]
  },
  {
   "cell_type": "code",
   "execution_count": null,
   "id": "modular-playback",
   "metadata": {},
   "outputs": [],
   "source": [
    "deep_pipe = Pipeline(stages=[va,sc,deepL]).fit(training_df)"
   ]
  },
  {
   "cell_type": "markdown",
   "id": "seventh-adventure",
   "metadata": {},
   "source": [
    "### Calculating the accuracy of neural network model ###"
   ]
  },
  {
   "cell_type": "code",
   "execution_count": 49,
   "id": "permanent-parker",
   "metadata": {
    "scrolled": false
   },
   "outputs": [
    {
     "name": "stdout",
     "output_type": "stream",
     "text": [
      "+--------------------+---------------------------+\n",
      "|Correctly Classified|count(Correctly Classified)|\n",
      "+--------------------+---------------------------+\n",
      "|                   1|                      82578|\n",
      "|                   0|                      10212|\n",
      "+--------------------+---------------------------+\n",
      "\n"
     ]
    }
   ],
   "source": [
    "accuracyMulti(deep_pipe).show()"
   ]
  },
  {
   "cell_type": "code",
   "execution_count": 50,
   "id": "suitable-picking",
   "metadata": {
    "scrolled": true
   },
   "outputs": [
    {
     "data": {
      "text/plain": [
       "0.8748959529843214"
      ]
     },
     "execution_count": 50,
     "metadata": {},
     "output_type": "execute_result"
    }
   ],
   "source": [
    "multi_eval.evaluate(deep_pipe.transform(validation_df))"
   ]
  },
  {
   "cell_type": "code",
   "execution_count": 51,
   "id": "elegant-campbell",
   "metadata": {},
   "outputs": [
    {
     "name": "stdout",
     "output_type": "stream",
     "text": [
      "+------------------+\n",
      "|          accuracy|\n",
      "+------------------+\n",
      "|0.8899450371807307|\n",
      "+------------------+\n",
      "\n"
     ]
    }
   ],
   "source": [
    "deep_pipe.transform(testing_df).select(fn.expr('avg(float(attack_type=prediction))').alias('accuracy')).show()"
   ]
  },
  {
   "cell_type": "markdown",
   "id": "given-machinery",
   "metadata": {},
   "source": [
    "### Stuff below is not part of the Final submission is just things we tried. ###"
   ]
  },
  {
   "cell_type": "markdown",
   "id": "dutch-adult",
   "metadata": {},
   "source": [
    "### Gradient Boosting Machine. ###"
   ]
  },
  {
   "cell_type": "code",
   "execution_count": null,
   "id": "massive-country",
   "metadata": {},
   "outputs": [],
   "source": [
    "gb = GBTClassifier(stepSize=0.01,maxIter=500).setFeaturesCol(\"features\").setLabelCol('ben_malli_attack')"
   ]
  },
  {
   "cell_type": "code",
   "execution_count": null,
   "id": "polar-cooperation",
   "metadata": {},
   "outputs": [],
   "source": [
    "#gbt_pipe = Pipeline(stages=[va,sc,gb]).fit(training_df)"
   ]
  },
  {
   "cell_type": "code",
   "execution_count": null,
   "id": "alpine-steam",
   "metadata": {
    "scrolled": false
   },
   "outputs": [],
   "source": [
    "gbt_pipe_2 = Pipeline(stages=[va,sc,gb]).fit(training_df)"
   ]
  },
  {
   "cell_type": "code",
   "execution_count": null,
   "id": "tender-consequence",
   "metadata": {},
   "outputs": [],
   "source": [
    "gbt_pipe_2.transform(testing_df).select(fn.expr('avg(float(attack_type=prediction))').alias('accuracy')).show()"
   ]
  },
  {
   "cell_type": "code",
   "execution_count": null,
   "id": "collected-crawford",
   "metadata": {},
   "outputs": [],
   "source": [
    "multi_eval.evaluate(gbt_pipe_2.transform(validation_df))"
   ]
  },
  {
   "cell_type": "markdown",
   "id": "million-stone",
   "metadata": {},
   "source": [
    "### One Vs Rest Model. (Takes too long/ Not tested) ###"
   ]
  },
  {
   "cell_type": "code",
   "execution_count": null,
   "id": "brave-version",
   "metadata": {},
   "outputs": [],
   "source": [
    "\n",
    "gb = GBTClassifier(stepSize=0.1,maxIter=50).setFeaturesCol(\"features\")\n",
    "\n",
    "ovr = OneVsRest(classifier=gb).setLabelCol(\"attack_type\")\n",
    "\n",
    "ovrModel = Pipeline(stages=[va,sc,ovr]).fit(training_df)"
   ]
  },
  {
   "cell_type": "code",
   "execution_count": null,
   "id": "whole-internship",
   "metadata": {},
   "outputs": [],
   "source": [
    "ovrModel.transform(validation_df).select(fn.expr('avg(float(attack_type=prediction))').alias('accuracy')).show()"
   ]
  },
  {
   "cell_type": "code",
   "execution_count": null,
   "id": "superior-walnut",
   "metadata": {},
   "outputs": [],
   "source": [
    "multi_eval.evaluate(ovrModel.transform(validation_df))"
   ]
  },
  {
   "cell_type": "markdown",
   "id": "junior-closing",
   "metadata": {},
   "source": [
    "#### Was not able to run xGBoost\n",
    "\n",
    "- Run the following script in python terminal. \n",
    "\n",
    "%sh\n",
    "\n",
    "git clone https://github.com/sllynn/spark-xgboost.git;\n",
    "\n",
    "cd spark-xgboost;\n",
    "\n",
    "pip install -e .;\n",
    "\n",
    "- If it still throws import error for xgboost then restart python by running this and then kernel restart \n",
    " \n",
    " dbutils.library.restartPython()\n",
    " \n",
    "\n",
    "- Library and run code. "
   ]
  },
  {
   "cell_type": "code",
   "execution_count": null,
   "id": "stylish-dylan",
   "metadata": {
    "scrolled": true
   },
   "outputs": [],
   "source": [
    "\n",
    "# from sparkxgb import XGBoostClassifier, XGBoostClassificationModel\n",
    "# from pyspark.sql.types import StringType\n",
    "\n",
    " \n",
    "\n",
    "# from pyspark.ml import Pipeline\n",
    "\n",
    "# from pyspark.ml.feature import StringIndexer, VectorAssembler\n",
    "\n",
    "# from pyspark.ml.evaluation import MulticlassClassificationEvaluator, BinaryClassificationEvaluator\n",
    "\n",
    "# from pyspark.ml.tuning import ParamGridBuilder, CrossValidator\n",
    "\n",
    "# import mlflow\n",
    "\n",
    "# import mlflow.spark\n",
    "\n",
    "# xgbPipe = Pipeline(stages=[va,sc]).fit(training_df)\n",
    "\n",
    "# transformed_df = xgbPipe.transform(training_df)\n",
    "\n",
    "\n",
    "# xgb = XGBoostClassifier(eta=0.1,maxDepth=10,missing=-999,objective=\"multi:softprob\",numClass=9,numWorkers=2,featuresCol=\"features\",labelCol=\"attack_type\")\n",
    "\n"
   ]
  }
 ],
 "metadata": {
  "kernelspec": {
   "display_name": "Python 3",
   "language": "python",
   "name": "python3"
  },
  "language_info": {
   "codemirror_mode": {
    "name": "ipython",
    "version": 3
   },
   "file_extension": ".py",
   "mimetype": "text/x-python",
   "name": "python",
   "nbconvert_exporter": "python",
   "pygments_lexer": "ipython3",
   "version": "3.8.6"
  }
 },
 "nbformat": 4,
 "nbformat_minor": 5
}
